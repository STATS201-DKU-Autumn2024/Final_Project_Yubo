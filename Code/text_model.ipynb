{
  "nbformat": 4,
  "nbformat_minor": 0,
  "metadata": {
    "colab": {
      "provenance": [],
      "machine_shape": "hm",
      "gpuType": "A100"
    },
    "kernelspec": {
      "name": "python3",
      "display_name": "Python 3"
    },
    "language_info": {
      "name": "python"
    },
    "accelerator": "GPU"
  },
  "cells": [
    {
      "cell_type": "code",
      "source": [
        "# Import necessary libraries\n",
        "import pandas as pd\n",
        "from sklearn.model_selection import train_test_split\n",
        "from sklearn.feature_extraction.text import TfidfVectorizer\n",
        "from sklearn.tree import DecisionTreeClassifier\n",
        "from sklearn.metrics import accuracy_score, classification_report\n",
        "from sklearn.pipeline import make_pipeline\n",
        "import numpy as np\n",
        "\n",
        "# Load the datasets\n",
        "train_df = pd.read_csv('/content/drive/MyDrive/Stats201_FinalProject/Final_Project/train_filtered.csv')\n",
        "test_df = pd.read_csv('/content/drive/MyDrive/Stats201_FinalProject/Final_Project/test_filtered.csv')\n",
        "val_df = pd.read_csv('/content/drive/MyDrive/Stats201_FinalProject/Final_Project/val_filtered.csv')\n",
        "\n",
        "# Extract text and labels\n",
        "X_train = train_df['text']\n",
        "y_train = train_df['label']\n",
        "X_test = test_df['text']\n",
        "y_test = test_df['label']\n",
        "X_val = val_df['text']\n",
        "y_val = val_df['label']\n",
        "\n",
        "# Introduce noise by randomly shuffling some labels (mislabeling data)\n",
        "np.random.seed(42)\n",
        "noisy_indices = np.random.choice(len(y_train), size=int(len(y_train) * 0.1), replace=False)\n",
        "y_train[noisy_indices] = 1 - y_train[noisy_indices]  # Flip 10% of labels\n",
        "\n",
        "# Create a pipeline with a very limited TF-IDF vectorizer and a decision tree\n",
        "model = make_pipeline(\n",
        "    TfidfVectorizer(stop_words='english', max_features=50, ngram_range=(1, 1)),  # Extremely limited features and unigrams\n",
        "    DecisionTreeClassifier(max_depth=2, random_state=42)  # Very shallow tree to limit model complexity\n",
        ")\n",
        "\n",
        "# Train the model\n",
        "model.fit(X_train, y_train)\n",
        "\n",
        "# Predict on the validation set and evaluate the performance\n",
        "y_pred = model.predict(X_val)\n",
        "print(\"Validation Set Accuracy:\", accuracy_score(y_val, y_pred))\n",
        "print(\"Classification Report on Validation Set:\\n\", classification_report(y_val, y_pred))\n",
        "\n",
        "# Predict on the test set and evaluate the performance\n",
        "y_test_pred = model.predict(X_test)\n",
        "print(\"Test Set Accuracy:\", accuracy_score(y_test, y_test_pred))\n",
        "print(\"Classification Report on Test Set:\\n\", classification_report(y_test, y_test_pred))\n"
      ],
      "metadata": {
        "id": "4axH-twuCkw2",
        "colab": {
          "base_uri": "https://localhost:8080/"
        },
        "outputId": "d3c507b8-3a66-48d4-fe52-756f8371612a"
      },
      "execution_count": 1,
      "outputs": [
        {
          "output_type": "stream",
          "name": "stderr",
          "text": [
            "<ipython-input-1-3c10d54d0c30>:26: SettingWithCopyWarning: \n",
            "A value is trying to be set on a copy of a slice from a DataFrame\n",
            "\n",
            "See the caveats in the documentation: https://pandas.pydata.org/pandas-docs/stable/user_guide/indexing.html#returning-a-view-versus-a-copy\n",
            "  y_train[noisy_indices] = 1 - y_train[noisy_indices]  # Flip 10% of labels\n"
          ]
        },
        {
          "output_type": "stream",
          "name": "stdout",
          "text": [
            "Validation Set Accuracy: 0.8696132596685083\n",
            "Classification Report on Validation Set:\n",
            "               precision    recall  f1-score   support\n",
            "\n",
            "           0       0.85      0.90      0.87      1374\n",
            "           1       0.89      0.84      0.86      1341\n",
            "\n",
            "    accuracy                           0.87      2715\n",
            "   macro avg       0.87      0.87      0.87      2715\n",
            "weighted avg       0.87      0.87      0.87      2715\n",
            "\n",
            "Test Set Accuracy: 0.8859259259259259\n",
            "Classification Report on Test Set:\n",
            "               precision    recall  f1-score   support\n",
            "\n",
            "           0       0.85      0.93      0.89      1328\n",
            "           1       0.92      0.85      0.88      1372\n",
            "\n",
            "    accuracy                           0.89      2700\n",
            "   macro avg       0.89      0.89      0.89      2700\n",
            "weighted avg       0.89      0.89      0.89      2700\n",
            "\n"
          ]
        }
      ]
    },
    {
      "cell_type": "code",
      "source": [],
      "metadata": {
        "id": "-S-DsAJwWJrw"
      },
      "execution_count": null,
      "outputs": []
    }
  ]
}